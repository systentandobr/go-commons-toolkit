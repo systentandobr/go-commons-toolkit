{
 "cells": [
  {
   "cell_type": "markdown",
   "metadata": {},
   "source": [
    "# Análise Nutricional de Alimentos com Machine Learning\n",
    "\n",
    "## Configuração do Ambiente"
   ]
  },
  {
   "cell_type": "code",
   "execution_count": null,
   "metadata": {
    "id": "install-dependencies"
   },
   "outputs": [],
   "source": [
    "# Verificar se estamos no Google Colab\n",
    "import sys\n",
    "import os\n",
    "\n",
    "IN_COLAB = 'google.colab' in sys.modules\n",
    "\n",
    "if IN_COLAB:\n",
    "    # Clonar repositório no Colab\n",
    "    !git clone https://github.com/seu-usuario/machinelearning-analysis-service.git\n",
    "    %cd machinelearning-analysis-service\n",
    "    \n",
    "    # Instalar dependências\n",
    "    !pip install -r requirements.txt\n",
    "else:\n",
    "    # Configuração local\n",
    "    sys.path.insert(0, os.path.abspath(os.path.join(os.path.dirname(__file__), '..', '..')))"
   ]
  },
  {
   "cell_type": "markdown",
   "metadata": {},
   "source": [
    "## Imports e Configurações"
   ]
  },
  {
   "cell_type": "code",
   "execution_count": null,
   "metadata": {
    "id": "import-libraries"
   },
   "outputs": [],
   "source": [
    "import json\n",
    "import os\n",
    "\n",
    "# Importações do projeto\n",
    "from src.models.food.nutrition_service import create_food_nutrition_service\n",
    "from src.exporters.nutrition_exporter import NutritionExporter"
   ]
  },
  {
   "cell_type": "markdown",
   "metadata": {},
   "source": [
    "## Download de Imagens de Exemplo\n",
    "\n",
    "Se estiver no Colab, vamos baixar algumas imagens de exemplo"
   ]
  },
  {
   "cell_type": "code",
   "execution_count": null,
   "metadata": {
    "id": "download-sample-images"
   },
   "outputs": [],
   "source": [
    "# Criar diretório para imagens\n",
    "os.makedirs('resources/food_images', exist_ok=True)\n",
    "\n",
    "if IN_COLAB:\n",
    "    # Baixar imagens de exemplo\n",
    "    !wget https://example.com/apple.jpg -O resources/food_images/apple.jpg\n",
    "    !wget https://example.com/banana.jpg -O resources/food_images/banana.jpg\n",
    "    !wget https://example.com/pizza.jpg -O resources/food_images/pizza.jpg\n",
    "else:\n",
    "    # Usar imagens locais\n",
    "    resource_dir = os.path.join(os.path.dirname(__file__), 'resources', 'food_images')\n",
    "\n",
    "# Listar imagens disponíveis\n",
    "food_images = [\n",
    "    'resources/food_images/apple.jpg',\n",
    "    'resources/food_images/banana.jpg',\n",
    "    'resources/food_images/pizza.jpg'\n",
    "]"
   ]
  },
  {
   "cell_type": "markdown",
   "metadata": {},
   "source": [
    "## Análise Nutricional"
   ]
  },
  {
   "cell_type": "code",
   "execution_count": null,
   "metadata": {
    "id": "nutrition-analysis"
   },
   "outputs": [],
   "source": [
    "# Criar serviço de análise nutricional\n",
    "nutrition_service = create_food_nutrition_service()\n",
    "\n",
    "# Realizar análise em lote\n",
    "batch_analysis = nutrition_service.batch_analyze_foods(food_images)\n",
    "\n",
    "# Gerar relatório nutricional\n",
    "nutrition_report = nutrition_service.generate_nutrition_report(batch_analysis)\n",
    "\n",
    "# Exibir relatório\n",
    "print(json.dumps(nutrition_report, indent=2))"
   ]
  },
  {
   "cell_type": "markdown",
   "metadata": {},
   "source": [
    "## Exportação de Resultados"
   ]
  },
  {
   "cell_type": "code",
   "execution_count": null,
   "metadata": {
    "id": "export-results"
   },
   "outputs": [],
   "source": [
    "# Criar diretório de saída\n",
    "os.makedirs('outputs', exist_ok=True)\n",
    "\n",
    "# Exportar em diferentes formatos\n",
    "export_formats = ['json', 'csv', 'excel']\n",
    "\n",
    "for format in export_formats:\n",
    "    output_path = f'outputs/nutrition_report.{format}'\n",
    "    NutritionExporter.export(nutrition_report, output_path, format)\n",
    "    print(f\"Relatório exportado: {output_path}\")\n",
    "\n",
    "# No Colab, permitir download dos arquivos\n",
    "if IN_COLAB:\n",
    "    from google.colab import files\n",
    "    for format in export_formats:\n",
    "        files.download(f'outputs/nutrition_report.{format}')"
   ]
  },
  {
   "cell_type": "markdown",
   "metadata": {},
   "source": [
    "## Visualização dos Resultados"
   ]
  },
  {
   "cell_type": "code",
   "execution_count": null,
   "metadata": {
    "id": "results-visualization"
   },
   "outputs": [],
   "source": [
    "import matplotlib.pyplot as plt\n",
    "import pandas as pd\n",
    "\n",
    "# Converter dados nutricionais para DataFrame\n",
    "nutrition_data = pd.DataFrame([\n",
    "    {\n",
    "        'Nutriente': 'Calorias',\n",
    "        'Quantidade': nutrition_report['total_nutrition']['calories']\n",
    "    },\n",
    "    {\n",
    "        'Nutriente': 'Proteínas',\n",
    "        'Quantidade': nutrition_report['total_nutrition']['proteins']\n",
    "    },\n",
    "    {\n",
    "        'Nutriente': 'Carboidratos',\n",
    "        'Quantidade': nutrition_report['total_nutrition']['carbohydrates']\n",
    "    },\n",
    "    {\n",
    "        'Nutriente': 'Gorduras',\n",
    "        'Quantidade': nutrition_report['total_nutrition']['fats']\n",
    "    }\n",
    "])\n",
    "\n",
    "# Gráfico de barras\n",
    "plt.figure(figsize=(10, 6))\n",
    "plt.bar(nutrition_data['Nutriente'], nutrition_data['Quantidade'])\n",
    "plt.title('Resumo Nutricional')\n",
    "plt.xlabel('Nutrientes')\n",
    "plt.ylabel('Quantidade')\n",
    "plt.tight_layout()\n",
    "plt.savefig('outputs/nutrition_summary.png')\n",
    "plt.show()\n",
    "\n",
    "# No Colab, fazer download do gráfico\n",
    "if IN_COLAB:\n",
    "    files.download('outputs/nutrition_summary.png')"
   ]
  }
 ],
 "metadata": {
  "colab": {
   "provenance": [],
   "toc_visible": true
  },
  "kernelspec": {
   "display_name": "Python 3",
   "language": "python",
   "name": "python3"
  },
  "language_info": {
   "codemirror_mode": {
    "name": "ipython",
    "version": 3
   },
   "file_extension": ".py",
   "mimetype": "text/x-python",
   "name": "python",
   "nbconvert_exporter": "python",
   "pygments_lexer": "ipython3",
   "version": "3.8.5"
  }
 },
 "nbformat": 4,
 "nbformat_minor": 1
}
