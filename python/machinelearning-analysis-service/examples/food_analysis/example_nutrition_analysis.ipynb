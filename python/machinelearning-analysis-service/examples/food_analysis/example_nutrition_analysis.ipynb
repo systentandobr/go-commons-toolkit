{
 "cells": [
  {
   "cell_type": "markdown",
   "metadata": {},
   "source": [
    "# Análise Nutricional de Alimentos com Machine Learning\n",
    "\n",
    "## Configuração do Ambiente"
   ]
  },
  {
   "cell_type": "code",
   "execution_count": null,
   "metadata": {
    "id": "install-dependencies"
   },
   "outputs": [],
   "source": [
    "# Verificar se estamos no Google Colab\n",
    "import sys\n",
    "import os\n",
    "\n",
    "IN_COLAB = 'google.colab' in sys.modules\n",
    "\n",
    "if IN_COLAB:\n",
    "    # Clonar repositório no Colab\n",
    "    !git clone https://github.com/seu-usuario/machinelearning-analysis-service.git\n",
    "    %cd machinelearning-analysis-service\n",
    "    \n",
    "    # Instalar dependências\n",
    "    !pip install -r requirements.txt\n",
    "    \n",
    "    # Adicionar diretório raiz ao PYTHONPATH\n",
    "    sys.path.insert(0, '/content/machinelearning-analysis-service')\n",
    "else:\n",
    "    # Configuração local\n",
    "    base_dir = os.path.abspath(os.path.join(os.path.dirname(__file__), '..', '..'))\n",
    "    sys.path.insert(0, base_dir)\n",
    "\n",
    "print(\"Caminho atual:\", os.getcwd())\n",
    "print(\"Paths:\", sys.path)"
   ]
  },
  {
   "cell_type": "markdown",
   "metadata": {},
   "source": [
    "## Imports e Configurações"
   ]
  },
  {
   "cell_type": "code",
   "execution_count": null,
   "metadata": {
    "id": "import-libraries"
   },
   "outputs": [],
   "source": [
    "import json\n",
    "import os\n",
    "\n",
    "# Importações do projeto\n",
    "from src.models.food.nutrition_service import create_food_nutrition_service\n",
    "from src.exporters.nutrition_exporter import NutritionExporter\n",
    "\n",
    "print(\"Importações realizadas com sucesso!\")"
   ]
  },
  {
   "cell_type": "markdown",
   "metadata": {},
   "source": [
    "## Download de Imagens de Exemplo\n",
    "\n",
    "Se estiver no Colab, vamos baixar algumas imagens de exemplo"
   ]
  },
  {
   "cell_type": "code",
   "execution_count": null,
   "metadata": {
    "id": "download-sample-images"
   },
   "outputs": [],
   "source": [
    "# Criar diretório para imagens\n",
    "os.makedirs('resources/food_images', exist_ok=True)\n",
    "\n",
    "if IN_COLAB:\n",
    "    # URLs de exemplo - substitua por URLs reais de imagens de alimentos\n",
    "    !wget https://upload.wikimedia.org/wikipedia/commons/1/15/Red_Apple.jpg -O resources/food_images/apple.jpg\n",
    "    !wget https://upload.wikimedia.org/wikipedia/commons/f/f2/Bananas.jpg -O resources/food_images/banana.jpg\n",
    "    !wget https://upload.wikimedia.org/wikipedia/commons/4/4d/Pizza_-_Wedge.jpg -O resources/food_images/pizza.jpg\n",
    "else:\n",
    "    # Usar imagens locais\n",
    "    resource_dir = os.path.join(os.path.dirname(__file__), 'resources', 'food_images')\n",
    "\n",
    "# Listar imagens disponíveis\n",
    "food_images = [\n",
    "    'resources/food_images/apple.jpg',\n",
    "    'resources/food_images/banana.jpg',\n",
    "    'resources/food_images/pizza.jpg'\n",
    "]\n",
    "\n",
    "print(\"Imagens de exemplo:\", food_images)"
   ]
  },
  {
   "cell_type": "markdown",
   "metadata": {},
   "source": [
    "## Restante do notebook permanece o mesmo..."
   ]
  }
 ],
 "metadata": {
  "colab": {
   "provenance": [],
   "toc_visible": true
  },
  "kernelspec": {
   "display_name": "Python 3",
   "language": "python",
   "name": "python3"
  },
  "language_info": {
   "codemirror_mode": {
    "name": "ipython",
    "version": 3
   },
   "file_extension": ".py",
   "mimetype": "text/x-python",
   "name": "python",
   "nbconvert_exporter": "python",
   "pygments_lexer": "ipython3",
   "version": "3.8.5"
  }
 },
 "nbformat": 4,
 "nbformat_minor": 1
}
