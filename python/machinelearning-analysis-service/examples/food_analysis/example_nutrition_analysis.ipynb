{
  "cells": [
    {
      "cell_type": "markdown",
      "metadata": {
        "id": "4jBjqhzjVfOg"
      },
      "source": [
        "# Análise Nutricional de Alimentos com Machine Learning\n",
        "\n",
        "## Configuração do Ambiente"
      ]
    },
    {
      "cell_type": "code",
      "execution_count": 5,
      "metadata": {
        "id": "install-dependencies",
        "outputId": "2705c70e-8abc-4cb7-9787-2b42dc1b25dd",
        "colab": {
          "base_uri": "https://localhost:8080/"
        }
      },
      "outputs": [
        {
          "output_type": "stream",
          "name": "stdout",
          "text": [
            "Cloning into 'toolkit'...\n",
            "remote: Enumerating objects: 486, done.\u001b[K\n",
            "remote: Counting objects: 100% (486/486), done.\u001b[K\n",
            "remote: Compressing objects: 100% (353/353), done.\u001b[K\n",
            "remote: Total 486 (delta 121), reused 434 (delta 73), pack-reused 0 (from 0)\u001b[K\n",
            "Receiving objects: 100% (486/486), 402.67 KiB | 7.60 MiB/s, done.\n",
            "Resolving deltas: 100% (121/121), done.\n",
            "/content/toolkit/python/machinelearning-analysis-service/toolkit/python/machinelearning-analysis-service\n",
            "Requirement already satisfied: tensorflow in /usr/local/lib/python3.11/dist-packages (from -r requirements.txt (line 1)) (2.18.0)\n",
            "Requirement already satisfied: numpy in /usr/local/lib/python3.11/dist-packages (from -r requirements.txt (line 2)) (2.0.2)\n",
            "Requirement already satisfied: pandas in /usr/local/lib/python3.11/dist-packages (from -r requirements.txt (line 3)) (2.2.2)\n",
            "Requirement already satisfied: opencv-python-headless in /usr/local/lib/python3.11/dist-packages (from -r requirements.txt (line 4)) (4.11.0.86)\n",
            "Requirement already satisfied: matplotlib in /usr/local/lib/python3.11/dist-packages (from -r requirements.txt (line 5)) (3.10.0)\n",
            "Requirement already satisfied: pydantic in /usr/local/lib/python3.11/dist-packages (from -r requirements.txt (line 6)) (2.11.2)\n",
            "Requirement already satisfied: absl-py>=1.0.0 in /usr/local/lib/python3.11/dist-packages (from tensorflow->-r requirements.txt (line 1)) (1.4.0)\n",
            "Requirement already satisfied: astunparse>=1.6.0 in /usr/local/lib/python3.11/dist-packages (from tensorflow->-r requirements.txt (line 1)) (1.6.3)\n",
            "Requirement already satisfied: flatbuffers>=24.3.25 in /usr/local/lib/python3.11/dist-packages (from tensorflow->-r requirements.txt (line 1)) (25.2.10)\n",
            "Requirement already satisfied: gast!=0.5.0,!=0.5.1,!=0.5.2,>=0.2.1 in /usr/local/lib/python3.11/dist-packages (from tensorflow->-r requirements.txt (line 1)) (0.6.0)\n",
            "Requirement already satisfied: google-pasta>=0.1.1 in /usr/local/lib/python3.11/dist-packages (from tensorflow->-r requirements.txt (line 1)) (0.2.0)\n",
            "Requirement already satisfied: libclang>=13.0.0 in /usr/local/lib/python3.11/dist-packages (from tensorflow->-r requirements.txt (line 1)) (18.1.1)\n",
            "Requirement already satisfied: opt-einsum>=2.3.2 in /usr/local/lib/python3.11/dist-packages (from tensorflow->-r requirements.txt (line 1)) (3.4.0)\n",
            "Requirement already satisfied: packaging in /usr/local/lib/python3.11/dist-packages (from tensorflow->-r requirements.txt (line 1)) (24.2)\n",
            "Requirement already satisfied: protobuf!=4.21.0,!=4.21.1,!=4.21.2,!=4.21.3,!=4.21.4,!=4.21.5,<6.0.0dev,>=3.20.3 in /usr/local/lib/python3.11/dist-packages (from tensorflow->-r requirements.txt (line 1)) (5.29.4)\n",
            "Requirement already satisfied: requests<3,>=2.21.0 in /usr/local/lib/python3.11/dist-packages (from tensorflow->-r requirements.txt (line 1)) (2.32.3)\n",
            "Requirement already satisfied: setuptools in /usr/local/lib/python3.11/dist-packages (from tensorflow->-r requirements.txt (line 1)) (75.2.0)\n",
            "Requirement already satisfied: six>=1.12.0 in /usr/local/lib/python3.11/dist-packages (from tensorflow->-r requirements.txt (line 1)) (1.17.0)\n",
            "Requirement already satisfied: termcolor>=1.1.0 in /usr/local/lib/python3.11/dist-packages (from tensorflow->-r requirements.txt (line 1)) (3.0.1)\n",
            "Requirement already satisfied: typing-extensions>=3.6.6 in /usr/local/lib/python3.11/dist-packages (from tensorflow->-r requirements.txt (line 1)) (4.13.1)\n",
            "Requirement already satisfied: wrapt>=1.11.0 in /usr/local/lib/python3.11/dist-packages (from tensorflow->-r requirements.txt (line 1)) (1.17.2)\n",
            "Requirement already satisfied: grpcio<2.0,>=1.24.3 in /usr/local/lib/python3.11/dist-packages (from tensorflow->-r requirements.txt (line 1)) (1.71.0)\n",
            "Requirement already satisfied: tensorboard<2.19,>=2.18 in /usr/local/lib/python3.11/dist-packages (from tensorflow->-r requirements.txt (line 1)) (2.18.0)\n",
            "Requirement already satisfied: keras>=3.5.0 in /usr/local/lib/python3.11/dist-packages (from tensorflow->-r requirements.txt (line 1)) (3.8.0)\n",
            "Requirement already satisfied: h5py>=3.11.0 in /usr/local/lib/python3.11/dist-packages (from tensorflow->-r requirements.txt (line 1)) (3.13.0)\n",
            "Requirement already satisfied: ml-dtypes<0.5.0,>=0.4.0 in /usr/local/lib/python3.11/dist-packages (from tensorflow->-r requirements.txt (line 1)) (0.4.1)\n",
            "Requirement already satisfied: tensorflow-io-gcs-filesystem>=0.23.1 in /usr/local/lib/python3.11/dist-packages (from tensorflow->-r requirements.txt (line 1)) (0.37.1)\n",
            "Requirement already satisfied: python-dateutil>=2.8.2 in /usr/local/lib/python3.11/dist-packages (from pandas->-r requirements.txt (line 3)) (2.8.2)\n",
            "Requirement already satisfied: pytz>=2020.1 in /usr/local/lib/python3.11/dist-packages (from pandas->-r requirements.txt (line 3)) (2025.2)\n",
            "Requirement already satisfied: tzdata>=2022.7 in /usr/local/lib/python3.11/dist-packages (from pandas->-r requirements.txt (line 3)) (2025.2)\n",
            "Requirement already satisfied: contourpy>=1.0.1 in /usr/local/lib/python3.11/dist-packages (from matplotlib->-r requirements.txt (line 5)) (1.3.1)\n",
            "Requirement already satisfied: cycler>=0.10 in /usr/local/lib/python3.11/dist-packages (from matplotlib->-r requirements.txt (line 5)) (0.12.1)\n",
            "Requirement already satisfied: fonttools>=4.22.0 in /usr/local/lib/python3.11/dist-packages (from matplotlib->-r requirements.txt (line 5)) (4.57.0)\n",
            "Requirement already satisfied: kiwisolver>=1.3.1 in /usr/local/lib/python3.11/dist-packages (from matplotlib->-r requirements.txt (line 5)) (1.4.8)\n",
            "Requirement already satisfied: pillow>=8 in /usr/local/lib/python3.11/dist-packages (from matplotlib->-r requirements.txt (line 5)) (11.1.0)\n",
            "Requirement already satisfied: pyparsing>=2.3.1 in /usr/local/lib/python3.11/dist-packages (from matplotlib->-r requirements.txt (line 5)) (3.2.3)\n",
            "Requirement already satisfied: annotated-types>=0.6.0 in /usr/local/lib/python3.11/dist-packages (from pydantic->-r requirements.txt (line 6)) (0.7.0)\n",
            "Requirement already satisfied: pydantic-core==2.33.1 in /usr/local/lib/python3.11/dist-packages (from pydantic->-r requirements.txt (line 6)) (2.33.1)\n",
            "Requirement already satisfied: typing-inspection>=0.4.0 in /usr/local/lib/python3.11/dist-packages (from pydantic->-r requirements.txt (line 6)) (0.4.0)\n",
            "Requirement already satisfied: wheel<1.0,>=0.23.0 in /usr/local/lib/python3.11/dist-packages (from astunparse>=1.6.0->tensorflow->-r requirements.txt (line 1)) (0.45.1)\n",
            "Requirement already satisfied: rich in /usr/local/lib/python3.11/dist-packages (from keras>=3.5.0->tensorflow->-r requirements.txt (line 1)) (13.9.4)\n",
            "Requirement already satisfied: namex in /usr/local/lib/python3.11/dist-packages (from keras>=3.5.0->tensorflow->-r requirements.txt (line 1)) (0.0.8)\n",
            "Requirement already satisfied: optree in /usr/local/lib/python3.11/dist-packages (from keras>=3.5.0->tensorflow->-r requirements.txt (line 1)) (0.14.1)\n",
            "Requirement already satisfied: charset-normalizer<4,>=2 in /usr/local/lib/python3.11/dist-packages (from requests<3,>=2.21.0->tensorflow->-r requirements.txt (line 1)) (3.4.1)\n",
            "Requirement already satisfied: idna<4,>=2.5 in /usr/local/lib/python3.11/dist-packages (from requests<3,>=2.21.0->tensorflow->-r requirements.txt (line 1)) (3.10)\n",
            "Requirement already satisfied: urllib3<3,>=1.21.1 in /usr/local/lib/python3.11/dist-packages (from requests<3,>=2.21.0->tensorflow->-r requirements.txt (line 1)) (2.3.0)\n",
            "Requirement already satisfied: certifi>=2017.4.17 in /usr/local/lib/python3.11/dist-packages (from requests<3,>=2.21.0->tensorflow->-r requirements.txt (line 1)) (2025.1.31)\n",
            "Requirement already satisfied: markdown>=2.6.8 in /usr/local/lib/python3.11/dist-packages (from tensorboard<2.19,>=2.18->tensorflow->-r requirements.txt (line 1)) (3.7)\n",
            "Requirement already satisfied: tensorboard-data-server<0.8.0,>=0.7.0 in /usr/local/lib/python3.11/dist-packages (from tensorboard<2.19,>=2.18->tensorflow->-r requirements.txt (line 1)) (0.7.2)\n",
            "Requirement already satisfied: werkzeug>=1.0.1 in /usr/local/lib/python3.11/dist-packages (from tensorboard<2.19,>=2.18->tensorflow->-r requirements.txt (line 1)) (3.1.3)\n",
            "Requirement already satisfied: MarkupSafe>=2.1.1 in /usr/local/lib/python3.11/dist-packages (from werkzeug>=1.0.1->tensorboard<2.19,>=2.18->tensorflow->-r requirements.txt (line 1)) (3.0.2)\n",
            "Requirement already satisfied: markdown-it-py>=2.2.0 in /usr/local/lib/python3.11/dist-packages (from rich->keras>=3.5.0->tensorflow->-r requirements.txt (line 1)) (3.0.0)\n",
            "Requirement already satisfied: pygments<3.0.0,>=2.13.0 in /usr/local/lib/python3.11/dist-packages (from rich->keras>=3.5.0->tensorflow->-r requirements.txt (line 1)) (2.18.0)\n",
            "Requirement already satisfied: mdurl~=0.1 in /usr/local/lib/python3.11/dist-packages (from markdown-it-py>=2.2.0->rich->keras>=3.5.0->tensorflow->-r requirements.txt (line 1)) (0.1.2)\n"
          ]
        }
      ],
      "source": [
        "# Verificar se estamos no Google Colab\n",
        "import sys\n",
        "import os\n",
        "\n",
        "IN_COLAB = 'google.colab' in sys.modules\n",
        "%rm -rf toolkit\n",
        "\n",
        "if IN_COLAB:\n",
        "    %rm -rf toolkit\n",
        "    # Clonar repositório no Colab\n",
        "    !git clone https://github.com/systentandobr/toolkit.git\n",
        "    %cd toolkit/python/machinelearning-analysis-service\n",
        "\n",
        "    # Instalar dependências\n",
        "    !pip install -r requirements.txt\n",
        "else:\n",
        "    # Configuração local\n",
        "    sys.path.insert(0, os.path.abspath(os.path.join(os.path.dirname(__file__), '..', '..')))"
      ]
    },
    {
      "cell_type": "markdown",
      "metadata": {
        "id": "Pvkn4BXEVfOh"
      },
      "source": [
        "## Imports e Configurações"
      ]
    },
    {
      "cell_type": "code",
      "execution_count": 6,
      "metadata": {
        "colab": {
          "base_uri": "https://localhost:8080/",
          "height": 562
        },
        "id": "import-libraries",
        "outputId": "62efde49-7494-46ed-e617-48dc635b6ea1"
      },
      "outputs": [
        {
          "output_type": "stream",
          "name": "stdout",
          "text": [
            "Paths configurados: ['/content/toolkit/python/machinelearning-analysis-service', '/content/toolkit/python/machinelearning-analysis-service', '/content/toolkit/python/machinelearning-analysis-service', '/content/toolkit/python/machinelearning-analysis-service', '/content', '/env/python', '/usr/lib/python311.zip', '/usr/lib/python3.11', '/usr/lib/python3.11/lib-dynload', '', '/usr/local/lib/python3.11/dist-packages', '/usr/lib/python3/dist-packages', '/usr/local/lib/python3.11/dist-packages/IPython/extensions', '/root/.ipython', '/usr/local/lib/python3.11/dist-packages/setuptools/_vendor']\n"
          ]
        },
        {
          "output_type": "error",
          "ename": "ImportError",
          "evalue": "cannot import name 'ExporterRegistry' from 'src.core.registry' (/content/toolkit/python/machinelearning-analysis-service/src/core/registry.py)",
          "traceback": [
            "\u001b[0;31m---------------------------------------------------------------------------\u001b[0m",
            "\u001b[0;31mImportError\u001b[0m                               Traceback (most recent call last)",
            "\u001b[0;32m<ipython-input-6-bb1dedd9f084>\u001b[0m in \u001b[0;36m<cell line: 0>\u001b[0;34m()\u001b[0m\n\u001b[1;32m     26\u001b[0m \u001b[0;31m# Importações do projeto\u001b[0m\u001b[0;34m\u001b[0m\u001b[0;34m\u001b[0m\u001b[0m\n\u001b[1;32m     27\u001b[0m \u001b[0;32mfrom\u001b[0m \u001b[0msrc\u001b[0m\u001b[0;34m.\u001b[0m\u001b[0mmodels\u001b[0m\u001b[0;34m.\u001b[0m\u001b[0mfood\u001b[0m\u001b[0;34m.\u001b[0m\u001b[0mnutrition_service\u001b[0m \u001b[0;32mimport\u001b[0m \u001b[0mcreate_food_nutrition_service\u001b[0m\u001b[0;34m\u001b[0m\u001b[0;34m\u001b[0m\u001b[0m\n\u001b[0;32m---> 28\u001b[0;31m \u001b[0;32mfrom\u001b[0m \u001b[0msrc\u001b[0m\u001b[0;34m.\u001b[0m\u001b[0mexporters\u001b[0m\u001b[0;34m.\u001b[0m\u001b[0mnutrition_exporter\u001b[0m \u001b[0;32mimport\u001b[0m \u001b[0mNutritionExporter\u001b[0m\u001b[0;34m\u001b[0m\u001b[0;34m\u001b[0m\u001b[0m\n\u001b[0m",
            "\u001b[0;32m/content/toolkit/python/machinelearning-analysis-service/src/exporters/nutrition_exporter.py\u001b[0m in \u001b[0;36m<module>\u001b[0;34m\u001b[0m\n\u001b[1;32m    195\u001b[0m \u001b[0;34m\u001b[0m\u001b[0m\n\u001b[1;32m    196\u001b[0m \u001b[0;31m# Registro automático ao importar\u001b[0m\u001b[0;34m\u001b[0m\u001b[0;34m\u001b[0m\u001b[0m\n\u001b[0;32m--> 197\u001b[0;31m \u001b[0mregister_nutrition_exporter\u001b[0m\u001b[0;34m(\u001b[0m\u001b[0;34m)\u001b[0m\u001b[0;34m\u001b[0m\u001b[0;34m\u001b[0m\u001b[0m\n\u001b[0m",
            "\u001b[0;32m/content/toolkit/python/machinelearning-analysis-service/src/exporters/nutrition_exporter.py\u001b[0m in \u001b[0;36mregister_nutrition_exporter\u001b[0;34m()\u001b[0m\n\u001b[1;32m    187\u001b[0m         \u001b[0mClasse\u001b[0m \u001b[0mde\u001b[0m \u001b[0mexportação\u001b[0m \u001b[0mde\u001b[0m \u001b[0mnutrição\u001b[0m\u001b[0;34m\u001b[0m\u001b[0;34m\u001b[0m\u001b[0m\n\u001b[1;32m    188\u001b[0m     \"\"\"\n\u001b[0;32m--> 189\u001b[0;31m     \u001b[0;32mfrom\u001b[0m \u001b[0;34m.\u001b[0m\u001b[0;34m.\u001b[0m\u001b[0mcore\u001b[0m\u001b[0;34m.\u001b[0m\u001b[0mregistry\u001b[0m \u001b[0;32mimport\u001b[0m \u001b[0mExporterRegistry\u001b[0m\u001b[0;34m\u001b[0m\u001b[0;34m\u001b[0m\u001b[0m\n\u001b[0m\u001b[1;32m    190\u001b[0m \u001b[0;34m\u001b[0m\u001b[0m\n\u001b[1;32m    191\u001b[0m     \u001b[0mexporter_registry\u001b[0m \u001b[0;34m=\u001b[0m \u001b[0mExporterRegistry\u001b[0m\u001b[0;34m(\u001b[0m\u001b[0;34m)\u001b[0m\u001b[0;34m\u001b[0m\u001b[0;34m\u001b[0m\u001b[0m\n",
            "\u001b[0;31mImportError\u001b[0m: cannot import name 'ExporterRegistry' from 'src.core.registry' (/content/toolkit/python/machinelearning-analysis-service/src/core/registry.py)",
            "",
            "\u001b[0;31m---------------------------------------------------------------------------\u001b[0;32m\nNOTE: If your import is failing due to a missing package, you can\nmanually install dependencies using either !pip or !apt.\n\nTo view examples of installing some common dependencies, click the\n\"Open Examples\" button below.\n\u001b[0;31m---------------------------------------------------------------------------\u001b[0m\n"
          ],
          "errorDetails": {
            "actions": [
              {
                "action": "open_url",
                "actionText": "Open Examples",
                "url": "/notebooks/snippets/importing_libraries.ipynb"
              }
            ]
          }
        }
      ],
      "source": [
        "import json\n",
        "import os\n",
        "import sys\n",
        "\n",
        "# Determinar o diretório raiz do projeto\n",
        "if 'google.colab' in sys.modules:\n",
        "    # Configuração específica para Colab\n",
        "    project_root = '/content/toolkit/python/machinelearning-analysis-service'\n",
        "else:\n",
        "    # Configuração para ambiente local\n",
        "    project_root = os.path.abspath(os.path.join(\n",
        "        os.path.dirname(__file__),\n",
        "        '..',\n",
        "        '..'\n",
        "    ))\n",
        "\n",
        "# Adicionar ao PYTHONPATH\n",
        "sys.path.insert(0, project_root)\n",
        "\n",
        "# Imprimir paths para diagnóstico\n",
        "print(\"Paths configurados:\", sys.path)\n",
        "\n",
        "# Importações do projeto\n",
        "from src.models.food.nutrition_service import create_food_nutrition_service\n",
        "from src.exporters.nutrition_exporter import NutritionExporter"
      ]
    },
    {
      "cell_type": "markdown",
      "metadata": {
        "id": "aNHw4CPfVfOi"
      },
      "source": [
        "## Download de Imagens de Exemplo\n",
        "\n",
        "Se estiver no Colab, vamos baixar algumas imagens de exemplo"
      ]
    },
    {
      "cell_type": "code",
      "execution_count": null,
      "metadata": {
        "id": "download-sample-images"
      },
      "outputs": [],
      "source": [
        "# Criar diretório para imagens\n",
        "os.makedirs('resources/food_images', exist_ok=True)\n",
        "\n",
        "if IN_COLAB:\n",
        "    # Baixar imagens de exemplo\n",
        "    !wget https://example.com/apple.jpg -O resources/food_images/apple.jpg\n",
        "    !wget https://example.com/banana.jpg -O resources/food_images/banana.jpg\n",
        "    !wget https://example.com/pizza.jpg -O resources/food_images/pizza.jpg\n",
        "else:\n",
        "    # Usar imagens locais\n",
        "    resource_dir = os.path.join(os.path.dirname(__file__), 'resources', 'food_images')\n",
        "\n",
        "# Listar imagens disponíveis\n",
        "food_images = [\n",
        "    'resources/food_images/apple.jpg',\n",
        "    'resources/food_images/banana.jpg',\n",
        "    'resources/food_images/pizza.jpg'\n",
        "]"
      ]
    },
    {
      "cell_type": "markdown",
      "metadata": {
        "id": "FaJQH209VfOi"
      },
      "source": [
        "## Análise Nutricional"
      ]
    },
    {
      "cell_type": "code",
      "execution_count": null,
      "metadata": {
        "id": "nutrition-analysis"
      },
      "outputs": [],
      "source": [
        "# Criar serviço de análise nutricional\n",
        "nutrition_service = create_food_nutrition_service()\n",
        "\n",
        "# Realizar análise em lote\n",
        "batch_analysis = nutrition_service.batch_analyze_foods(food_images)\n",
        "\n",
        "# Gerar relatório nutricional\n",
        "nutrition_report = nutrition_service.generate_nutrition_report(batch_analysis)\n",
        "\n",
        "# Exibir relatório\n",
        "print(json.dumps(nutrition_report, indent=2))"
      ]
    },
    {
      "cell_type": "markdown",
      "metadata": {
        "id": "sjyDQ6NFVfOi"
      },
      "source": [
        "## Exportação de Resultados"
      ]
    },
    {
      "cell_type": "code",
      "execution_count": null,
      "metadata": {
        "id": "export-results"
      },
      "outputs": [],
      "source": [
        "# Criar diretório de saída\n",
        "os.makedirs('outputs', exist_ok=True)\n",
        "\n",
        "# Exportar em diferentes formatos\n",
        "export_formats = ['json', 'csv', 'excel']\n",
        "\n",
        "for format in export_formats:\n",
        "    output_path = f'outputs/nutrition_report.{format}'\n",
        "    NutritionExporter.export(nutrition_report, output_path, format)\n",
        "    print(f\"Relatório exportado: {output_path}\")\n",
        "\n",
        "# No Colab, permitir download dos arquivos\n",
        "if IN_COLAB:\n",
        "    from google.colab import files\n",
        "    for format in export_formats:\n",
        "        files.download(f'outputs/nutrition_report.{format}')"
      ]
    },
    {
      "cell_type": "markdown",
      "metadata": {
        "id": "0RbeTprUVfOj"
      },
      "source": [
        "## Visualização dos Resultados"
      ]
    },
    {
      "cell_type": "code",
      "execution_count": null,
      "metadata": {
        "id": "results-visualization"
      },
      "outputs": [],
      "source": [
        "import matplotlib.pyplot as plt\n",
        "import pandas as pd\n",
        "\n",
        "# Converter dados nutricionais para DataFrame\n",
        "nutrition_data = pd.DataFrame([\n",
        "    {\n",
        "        'Nutriente': 'Calorias',\n",
        "        'Quantidade': nutrition_report['total_nutrition']['calories']\n",
        "    },\n",
        "    {\n",
        "        'Nutriente': 'Proteínas',\n",
        "        'Quantidade': nutrition_report['total_nutrition']['proteins']\n",
        "    },\n",
        "    {\n",
        "        'Nutriente': 'Carboidratos',\n",
        "        'Quantidade': nutrition_report['total_nutrition']['carbohydrates']\n",
        "    },\n",
        "    {\n",
        "        'Nutriente': 'Gorduras',\n",
        "        'Quantidade': nutrition_report['total_nutrition']['fats']\n",
        "    }\n",
        "])\n",
        "\n",
        "# Gráfico de barras\n",
        "plt.figure(figsize=(10, 6))\n",
        "plt.bar(nutrition_data['Nutriente'], nutrition_data['Quantidade'])\n",
        "plt.title('Resumo Nutricional')\n",
        "plt.xlabel('Nutrientes')\n",
        "plt.ylabel('Quantidade')\n",
        "plt.tight_layout()\n",
        "plt.savefig('outputs/nutrition_summary.png')\n",
        "plt.show()\n",
        "\n",
        "# No Colab, fazer download do gráfico\n",
        "if IN_COLAB:\n",
        "    files.download('outputs/nutrition_summary.png')"
      ]
    }
  ],
  "metadata": {
    "colab": {
      "provenance": []
    },
    "kernelspec": {
      "display_name": "Python 3",
      "language": "python",
      "name": "python3"
    },
    "language_info": {
      "codemirror_mode": {
        "name": "ipython",
        "version": 3
      },
      "file_extension": ".py",
      "mimetype": "text/x-python",
      "name": "python",
      "nbconvert_exporter": "python",
      "pygments_lexer": "ipython3",
      "version": "3.8.5"
    }
  },
  "nbformat": 4,
  "nbformat_minor": 0
}